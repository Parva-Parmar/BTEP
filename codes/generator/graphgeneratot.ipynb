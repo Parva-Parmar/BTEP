{
 "cells": [
  {
   "cell_type": "code",
   "execution_count": 5,
   "metadata": {},
   "outputs": [
    {
     "name": "stdout",
     "output_type": "stream",
     "text": [
      "Requirement already satisfied: networkx in c:\\users\\parva\\appdata\\local\\programs\\python\\python312\\lib\\site-packages (3.4.2)\n",
      "Note: you may need to restart the kernel to use updated packages.\n"
     ]
    },
    {
     "name": "stderr",
     "output_type": "stream",
     "text": [
      "\n",
      "[notice] A new release of pip is available: 23.3.2 -> 25.1\n",
      "[notice] To update, run: python.exe -m pip install --upgrade pip\n"
     ]
    }
   ],
   "source": [
    "pip install networkx"
   ]
  },
  {
   "cell_type": "code",
   "execution_count": 6,
   "metadata": {},
   "outputs": [
    {
     "name": "stdout",
     "output_type": "stream",
     "text": [
      "Graph Generator\n",
      "\n",
      "Batch 1:\n",
      "Saved WS_n1000_k13_p0.25_graph_1.gexf\n",
      "Saved WS_n1000_k13_p0.25_graph_2.gexf\n",
      "Saved WS_n1000_k13_p0.25_graph_3.gexf\n",
      "Saved WS_n1000_k13_p0.25_graph_4.gexf\n",
      "Saved WS_n1000_k13_p0.25_graph_5.gexf\n",
      "Saved WS_n1000_k13_p0.25_graph_6.gexf\n",
      "Saved WS_n1000_k13_p0.25_graph_7.gexf\n",
      "Saved WS_n1000_k13_p0.25_graph_8.gexf\n",
      "Saved WS_n1000_k13_p0.25_graph_9.gexf\n",
      "Saved WS_n1000_k13_p0.25_graph_10.gexf\n",
      "\n",
      "All graphs have been generated and saved with parameter-based filenames.\n"
     ]
    }
   ],
   "source": [
    "import networkx as nx\n",
    "import os\n",
    "\n",
    "def generate_ba_graph(n, m):\n",
    "    while True:\n",
    "        graph = nx.barabasi_albert_graph(n, m)\n",
    "        if nx.is_connected(graph):  # Check if the graph is connected\n",
    "            return graph\n",
    "\n",
    "def generate_ws_graph(n, k, p):\n",
    "    while True:\n",
    "        graph = nx.watts_strogatz_graph(n, k, p)\n",
    "        if nx.is_connected(graph):  # Check if the graph is connected\n",
    "            return graph\n",
    "\n",
    "def generate_er_graph(n, p):\n",
    "    while True:\n",
    "        graph = nx.erdos_renyi_graph(n, p)\n",
    "        if nx.is_connected(graph):  # Check if the graph is connected\n",
    "            return graph\n",
    "\n",
    "def main():\n",
    "    print(\"Graph Generator\")\n",
    "    total_batches = int(input(\"How many types of graph batches do you want to generate? \"))\n",
    "\n",
    "    output_dir = \"generated_graphs\"\n",
    "    os.makedirs(output_dir, exist_ok=True)\n",
    "\n",
    "    graph_counter = 1  # Global counter for unique file naming\n",
    "\n",
    "    for batch in range(total_batches):\n",
    "        print(f\"\\nBatch {batch + 1}:\")\n",
    "        graph_type = input(\"Enter graph type (BA, WS, ER): \").strip().upper()\n",
    "        num_graphs = int(input(f\"How many {graph_type} graphs do you want to generate? \"))\n",
    "\n",
    "        if graph_type == \"BA\":\n",
    "            n = int(input(\"Enter number of nodes (n): \"))\n",
    "            m = int(input(\"Enter number of edges to attach from a new node (m): \"))\n",
    "            for i in range(num_graphs):\n",
    "                graph = generate_ba_graph(n, m)\n",
    "                filename = f\"{graph_type}_n{n}_m{m}_graph_{graph_counter}.gexf\"\n",
    "                filepath = os.path.join(output_dir, filename)\n",
    "                nx.write_gexf(graph, filepath)\n",
    "                print(f\"Saved {filename}\")\n",
    "                graph_counter += 1\n",
    "\n",
    "        elif graph_type == \"WS\":\n",
    "            n = int(input(\"Enter number of nodes (n): \"))\n",
    "            k = int(input(\"Enter each node’s number of nearest neighbors (k): \"))\n",
    "            p = float(input(\"Enter rewiring probability (p between 0 and 1): \"))\n",
    "            for i in range(num_graphs):\n",
    "                graph = generate_ws_graph(n, k, p)\n",
    "                filename = f\"{graph_type}_n{n}_k{k}_p{p:.2f}_graph_{graph_counter}.gexf\"\n",
    "                filepath = os.path.join(output_dir, filename)\n",
    "                nx.write_gexf(graph, filepath)\n",
    "                print(f\"Saved {filename}\")\n",
    "                graph_counter += 1\n",
    "\n",
    "        elif graph_type == \"ER\":\n",
    "            n = int(input(\"Enter number of nodes (n): \"))\n",
    "            p = float(input(\"Enter probability for edge creation (p between 0 and 1): \"))\n",
    "            for i in range(num_graphs):\n",
    "                graph = generate_er_graph(n, p)\n",
    "                filename = f\"{graph_type}_n{n}_p{p:.2f}_graph_{graph_counter}.gexf\"\n",
    "                filepath = os.path.join(output_dir, filename)\n",
    "                nx.write_gexf(graph, filepath)\n",
    "                print(f\"Saved {filename}\")\n",
    "                graph_counter += 1\n",
    "\n",
    "        else:\n",
    "            print(\"Invalid graph type. Skipping.\")\n",
    "\n",
    "    print(\"\\nAll graphs have been generated and saved with parameter-based filenames.\")\n",
    "\n",
    "if __name__ == \"__main__\":\n",
    "    main()\n"
   ]
  }
 ],
 "metadata": {
  "kernelspec": {
   "display_name": "Python 3",
   "language": "python",
   "name": "python3"
  },
  "language_info": {
   "codemirror_mode": {
    "name": "ipython",
    "version": 3
   },
   "file_extension": ".py",
   "mimetype": "text/x-python",
   "name": "python",
   "nbconvert_exporter": "python",
   "pygments_lexer": "ipython3",
   "version": "3.12.1"
  }
 },
 "nbformat": 4,
 "nbformat_minor": 2
}
